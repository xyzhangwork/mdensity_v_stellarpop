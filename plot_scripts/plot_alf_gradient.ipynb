{
 "cells": [
  {
   "cell_type": "code",
   "execution_count": 1,
   "id": "1bcbe7ee-1422-4210-900b-f3d4d13f3c7c",
   "metadata": {},
   "outputs": [],
   "source": [
    "import numpy as np\n",
    "from astropy.io import fits\n",
    "import matplotlib.pyplot as plt\n",
    "import matplotlib.colors as mcolors\n",
    "import matplotlib as mpl\n",
    "import sys\n",
    "from read_alf import Alf\n",
    "import warnings\n",
    "warnings.filterwarnings(\"ignore\")"
   ]
  },
  {
   "cell_type": "code",
   "execution_count": 2,
   "id": "11fa36d8-3f4e-4a94-96fc-1eed6713ffb0",
   "metadata": {},
   "outputs": [],
   "source": [
    "split_num =2 \n",
    "\n",
    "path = '../data/alf/'\n",
    "sga_mass = fits.getdata('../data/sga_mass_new.fits', 1)\n",
    "split = fits.open('../data/sample_split_outliers_total.fits')\n",
    "r_median = fits.open('../data/rmax_median_re2.fits')\n",
    "rnames = ['rin_median(kpc)', 'rmid_median(kpc)', 'rout_median(kpc)']\n",
    "\n",
    "split_type = ['mtot_v_m10kpc', 'sigma_v_mtot', 'm20kpc_v_sigmacen', 'm10kpc_v_m20kpc_control']\n",
    "label_names = ['high', 'low']\n",
    "radius_name = ['in', 'mid', 'out']\n",
    "labels = ['High', 'Low']\n",
    "\n",
    "normalize = mcolors.Normalize(vmin=-1.3, vmax=0.3)\n",
    "colormap = mpl.cm.PRGn\n",
    "color_low = colormap(normalize(-1))\n",
    "color_high = colormap(normalize(0))\n",
    "colors = [color_high, color_low]\n",
    "edgecolors = ['xkcd:forest', 'xkcd:blue violet']\n",
    "shapes = ['o', 'd']\n",
    "sample_labels = [r'$\\mathrm{Extended}$', r'$\\mathrm{Compact}$']\n",
    "\n",
    "ele_abundances = ['Mg']\n",
    "params = ['Mg']\n",
    "titles = ['zH', 'Mg', 'Mg/Fe']\n",
    "titles = np.array(titles)\n",
    "titles0 = np.array([r'$\\mathbf{[Fe/H]}$', r'$\\mathbf{[Mg/H]}$', r'$\\mathbf{[Mg/Fe]}$'])\n",
    "\n",
    "keywords = ['zH', 'Mg', 'Mg/Fe', 'FeH', 'zH2', 'r_re', 'r_kpc']\n",
    "\n",
    "\n",
    "data = {}\n",
    "err = {}\n",
    "sigdata = {}\n",
    "\n",
    "for i in range(2):\n",
    "    for name in keywords:\n",
    "        data[name] = [[[], [], []], [[], [], []]]\n",
    "        err[name] = [[[], [], []], [[], [], []]]\n",
    "        sigdata[name] = [[], [], []]\n",
    "\n",
    "for j in range(3):\n",
    "    for i in range(2):\n",
    "        myalf = Alf(\n",
    "            path + split_type[split_num] + '/' + label_names[i] + '_' + split_type[split_num] + '_median_'\n",
    "            + radius_name[j])\n",
    "        myalf.get_total_met()\n",
    "        myalf.abundance_correct()\n",
    "        data['FeH'][i][j].append(myalf.results['FeH'][5])\n",
    "        err['FeH'][i][j].append(myalf.results['FeH'][2])\n",
    "\n",
    "        data['zH'][i][j].append(myalf.tmet['cl50'])\n",
    "        err['zH'][i][j].append(myalf.tmet['std'])\n",
    "        for name in params:\n",
    "            data[name][i][j].append(myalf.results[name][5]+myalf.results['zH'][5])\n",
    "            err[name][i][j].append(np.sqrt(myalf.results[name][2]**2+myalf.results['zH'][2]**2))\n",
    "\n",
    "        for name in ele_abundances:\n",
    "            data[name + '/Fe'][i][j].append(data[name][i][j][-1]-data['zH'][i][j][-1])\n",
    "            err[name + '/Fe'][i][j].append(err[name][i][j][-1]-err['zH'][i][j][-1])\n",
    "\n",
    "        data['zH2'][i][j].append(data['Mg/Fe'][i][j][-1] * 0.94 + data['zH'][i][j][-1])\n",
    "        err['zH2'][i][j].append(err['Mg/Fe'][i][j][-1] * 0.94 + err['zH'][i][j][-1])\n"
   ]
  },
  {
   "cell_type": "code",
   "execution_count": 3,
   "id": "a327079f-ec04-40bf-aab7-f1bc3bc0aec1",
   "metadata": {},
   "outputs": [
    {
     "data": {
      "text/plain": [
       "<matplotlib.legend.Legend at 0x7fcb78cb19d0>"
      ]
     },
     "execution_count": 3,
     "metadata": {},
     "output_type": "execute_result"
    },
    {
     "data": {
      "image/png": "[encoded data removed]",
      "text/plain": [
       "<Figure size 1008x288 with 3 Axes>"
      ]
     },
     "metadata": {
      "needs_background": "light"
     },
     "output_type": "display_data"
    }
   ],
   "source": [
    "plt.rcParams.update({\n",
    "    \"text.usetex\": True,\n",
    "    \"font.family\": \"Charter\",\n",
    "    \"xtick.labelsize\": 19,\n",
    "    \"ytick.labelsize\": 19,\n",
    "    \"axes.labelsize\": 21,\n",
    "    \"axes.labelweight\": \"bold\"\n",
    "    })\n",
    "fig, ax = plt.subplots(1, 3, figsize=(14, 4), clear=True)\n",
    "for idx_cal, name in enumerate(titles):\n",
    "    func = []\n",
    "    ax[idx_cal].set_title(titles0[idx_cal], x=.5, y=1.04, fontsize=23)\n",
    "    ax[idx_cal].set_xlabel(r'$R\\mathrm{/kpc}$')\n",
    "    xmin, xmax = 10, 10\n",
    "    for i in range(2):\n",
    "        mask = split[1].data[split_type[split_num]] % 2 == i\n",
    "        ifus, idx, _ = np.intersect1d(r_median[1].data['plateifu'], split[1].data['plateifu'][mask],\n",
    "                                      return_indices=True)\n",
    "        _, idx_re, idx0 = np.intersect1d(sga_mass['plateifu'], ifus, return_indices=True)\n",
    "        re = sga_mass['Re_kpc'][idx_re]\n",
    "        dx_tmp,dy_tmp=[],[]\n",
    "        for j in range(3):\n",
    "            r_tmp = np.nanmedian(r_median[1].data[rnames[j]][idx])\n",
    "            re_tmp = np.nanmedian(r_median[1].data[rnames[j]][idx] / re)\n",
    "            data['r_kpc'][i][j].append(r_tmp)\n",
    "            data['r_re'][i][j].append(re_tmp)\n",
    "\n",
    "            idx_r = np.where(r_median[1].data['plateifu'] == '10513-12701')[0][0]\n",
    "            if r_tmp < xmin:\n",
    "                xmin = np.copy(r_tmp)\n",
    "            if r_tmp > xmax:\n",
    "                xmax = np.copy(r_tmp)\n",
    "\n",
    "            ax[idx_cal].errorbar([r_tmp], [data[name][i][j]], yerr=[err[name][i][j]],\n",
    "                                 ecolor=colors[i], linewidth=3, capsize=10, capthick=4, linestyle=None,\n",
    "                                 alpha=1)\n",
    "            ax[idx_cal].scatter([r_tmp], [data[name][i][j]], s=300,\n",
    "                                edgecolors=edgecolors[i], facecolors=colors[i], linewidths=3,\n",
    "                                marker=shapes[i],\n",
    "                                alpha=1)\n",
    "            dx_tmp.append(r_tmp)\n",
    "            dy_tmp.append(data[name][i][j][0])\n",
    "        func_tmp = np.polyfit(dx_tmp, dy_tmp, 1)\n",
    "        func.append(np.poly1d(func_tmp))\n",
    "\n",
    "ax[0].scatter([], [], s=300, marker=shapes[0], facecolor=colors[0], edgecolor=edgecolors[0], label=sample_labels[0],\n",
    "              lw=2)\n",
    "ax[1].scatter([], [], s=300, marker=shapes[1], facecolor=colors[1], edgecolor=edgecolors[1], label=sample_labels[1],\n",
    "              lw=2)\n",
    "fig.subplots_adjust(wspace=0.23)\n",
    "\n",
    "ax[0].legend(fontsize=20, bbox_to_anchor=(1.55, -.06))\n",
    "ax[1].legend(fontsize=20, bbox_to_anchor=(1.55, -.06))"
   ]
  }
 ],
 "metadata": {
  "kernelspec": {
   "display_name": "Python 3 (ipykernel)",
   "language": "python",
   "name": "python3"
  },
  "language_info": {
   "codemirror_mode": {
    "name": "ipython",
    "version": 3
   },
   "file_extension": ".py",
   "mimetype": "text/x-python",
   "name": "python",
   "nbconvert_exporter": "python",
   "pygments_lexer": "ipython3",
   "version": "3.8.13"
  }
 },
 "nbformat": 4,
 "nbformat_minor": 5
}
